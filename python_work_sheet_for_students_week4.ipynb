{
 "cells": [
  {
   "cell_type": "markdown",
   "metadata": {},
   "source": [
    "## Computing the Minimum Variance Frontier: Unconstrained\n",
    "\n",
    "An investor considers an investment opportunity set that consists of two risky assets. One asset has an expected return of 8\\% and a volatility of 16% while the other has an expected return of only 3% and a volatility of 4%. Both asset returns share a correlation of 20%. \n",
    "\n",
    "**Instruction:** Use the same notation as in the lecture and revision manual.\n",
    "\n",
    "(i) Compute the weights, expected returns and volatiliy of minimum variance portfolios. Use the following specifications\n",
    "- compute the frontier for 400 target (expected) returns in the range of 0 and 20%\n",
    "\n",
    "(ii) Compute the weights, expected return and volatility of the global minimum variance portfolio\n",
    "\n",
    "(iii) Assume a risk-free rate of 2%. Compute the expected return, volatility and portfolio weights of the tangency portfolio\n",
    "\n",
    "(iv) Create one graph displaying the expected return and volatility of the investment opportunity set, the minimum variance frontier, the tangency portfolio, the global minimum variance portfolio, the capital allocation line, the risk-free rate.\n"
   ]
  },
  {
   "cell_type": "code",
   "execution_count": null,
   "metadata": {},
   "outputs": [],
   "source": []
  }
 ],
 "metadata": {
  "kernelspec": {
   "display_name": "Python 3",
   "language": "python",
   "name": "python3"
  },
  "language_info": {
   "codemirror_mode": {
    "name": "ipython",
    "version": 3
   },
   "file_extension": ".py",
   "mimetype": "text/x-python",
   "name": "python",
   "nbconvert_exporter": "python",
   "pygments_lexer": "ipython3",
   "version": "3.8.5"
  }
 },
 "nbformat": 4,
 "nbformat_minor": 2
}
