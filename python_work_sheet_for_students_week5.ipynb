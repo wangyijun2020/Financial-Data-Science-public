{
 "cells": [
  {
   "cell_type": "markdown",
   "metadata": {},
   "source": [
    "# Simplified Task for the CAPM Exercise\n",
    "\n",
    "Write a class called \"CAPM\". The members of the class are: alpha, beta, t-stat of alpha, t-stat of beta, adjusted R^2. The member function \"fit_SML(.)\" uses an OLS regression package of the statsmodels to fit the CAPM SML and to pin down alpha, beta, t-stat of alpha, t-stat of beta, adjusted R^2. Notice, \"alpha\" is a common term for the intercept of the SML regression, while the \"beta\" is the estimate of the slope.\n",
    "$$\n",
    "\\\\\n",
    "$$\n",
    "\n",
    "**Note:** The following commands might help you with Python\n",
    "1. import statsmodels.api as sm #loads statsmodels package (incl regression package)\n",
    "2. SML = sm.OLS(y,X).fit() # fits the security market line by regressing y onto X using OLS. A detailed revision of regressions will be covered later in the course.\n",
    "3. dir(SML) # shows you the members of the SML object. That helps to extract regression output such as parameter estimates, t-stats and R-square.\n",
    "\n",
    "$$\n",
    "\\\\\n",
    "$$\n",
    "\n",
    "Also, store the regression package's summary table as a private member of the CAPM class. Let member function \"display_Regression_Table(.)\" print out the regression summary table.\n",
    "\n",
    "$$\n",
    "\\\\\n",
    "$$\n",
    "\n",
    "The file \"apple_mthly.csv\" (\"sp500_mthly.csv\") contains monthly EXCESS return data for Apple (S&P 500). Note, the excess returns do already record the return in excess of the risk-free rate. Use the monthly excess return data for the S&P500 as the excess return on the market portfolio (in the CAPM sense). Please use your CAPM class to answer the following questions:\n",
    "\n",
    "A) How much of Apple's monthly return variance is diversifiable?\n",
    "\n",
    "B) How much of Apple's monthly return variance is systematatic?\n",
    "\n",
    "C) Did Apple earn a significant abnormal monthly return (i.e. alpha)? Hint: check the t-stat. A t-stat of larger than 2 is natural cut-off point in industry.\n",
    "\n",
    "D) How large has been the annualized Sharpe Ratio? Hint: Compute the mean monthly return of Apple and annualize it by multiplying it with 12. Compute the monthly return volatility of Apple and annualize  that by multiplying it with the square root of 12. Now, compute the Sharpe Ratio using these annualized numbers. \n",
    "\n",
    "E) Compare the average realized monthly return of Apple with the expected return that Apple should have payed if the CAPM holds. Hint: If the CAPM holds, all firm's expected returns line up on the SML (with an alpha of zero).   "
   ]
  },
  {
   "cell_type": "code",
   "execution_count": null,
   "metadata": {},
   "outputs": [],
   "source": []
  }
 ],
 "metadata": {
  "kernelspec": {
   "display_name": "Python 3",
   "language": "python",
   "name": "python3"
  },
  "language_info": {
   "codemirror_mode": {
    "name": "ipython",
    "version": 3
   },
   "file_extension": ".py",
   "mimetype": "text/x-python",
   "name": "python",
   "nbconvert_exporter": "python",
   "pygments_lexer": "ipython3",
   "version": "3.7.3"
  }
 },
 "nbformat": 4,
 "nbformat_minor": 4
}
