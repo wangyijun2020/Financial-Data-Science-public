{
 "cells": [
  {
   "cell_type": "code",
   "execution_count": null,
   "metadata": {},
   "outputs": [],
   "source": []
  },
  {
   "cell_type": "markdown",
   "metadata": {},
   "source": [
    "# A. Physical Lecture: Minimum Variance Frontier: Constrained\n",
    "\n"
   ]
  },
  {
   "cell_type": "markdown",
   "metadata": {},
   "source": [
    "## A.1 Set-up\n",
    "\n",
    "An investor considers an investment into three already well diversified exchange traded funds. Asset 1 has an expected return of 3%, a volatility of 4% and pairwise correlations to asset 2 and 3 of 10% and 20%, respectively. Asset 2 has an expected return of 6%, a volatility of 13% and a pairwise correlation with asset 3 of 70%.  Asset 3 has an expected return of 8% and a volatility of 16%.\n",
    "\n",
    "The investor wants to inspect a subset of minimum variance portfolios. The subset of interest must not contain any short sale positions and none of the positions shall make up more than 90% of the investment. "
   ]
  },
  {
   "cell_type": "markdown",
   "metadata": {},
   "source": [
    "## A.2  Code Requirements\n",
    " \n",
    "We need numpy for algebra, scipy.optimize for the numerical optimization and matplotlib for plotting."
   ]
  },
  {
   "cell_type": "code",
   "execution_count": 1,
   "metadata": {},
   "outputs": [],
   "source": [
    "import numpy as np    "
   ]
  },
  {
   "cell_type": "code",
   "execution_count": 2,
   "metadata": {},
   "outputs": [],
   "source": [
    "import matplotlib.pyplot as plt"
   ]
  },
  {
   "cell_type": "code",
   "execution_count": 3,
   "metadata": {},
   "outputs": [],
   "source": [
    "import scipy.optimize "
   ]
  },
  {
   "cell_type": "markdown",
   "metadata": {},
   "source": [
    "## A.3 Investment Opportunity Set"
   ]
  },
  {
   "cell_type": "code",
   "execution_count": 4,
   "metadata": {},
   "outputs": [],
   "source": [
    " mu = np.array([\n",
    "                [0.03],\n",
    "                 [0.06],\n",
    "                 [0.08]\n",
    "                 ]\n",
    "                 )"
   ]
  },
  {
   "cell_type": "code",
   "execution_count": 5,
   "metadata": {},
   "outputs": [],
   "source": [
    "Sigma = np.array([\n",
    "                    [0.04**2,         0.04*0.13*0.1, 0.04*0.16*0.2],\n",
    "                    [0.04*0.13*0.1,  0.13**2,        0.13*0.16*0.7],\n",
    "                    [0.04*0.16*0.2,  0.13*0.16*0.7, 0.16**2]    \n",
    "                    ])"
   ]
  },
  {
   "cell_type": "markdown",
   "metadata": {},
   "source": [
    "## A.4 Objective Function"
   ]
  },
  {
   "cell_type": "markdown",
   "metadata": {},
   "source": [
    "Now, we define the objective function that the investor wants to optimize. In our application that is the portfolio variance (as a function of the portfolio weights). The objective function needs to return a scalar value.  "
   ]
  },
  {
   "cell_type": "code",
   "execution_count": 6,
   "metadata": {},
   "outputs": [],
   "source": [
    " def portfolio_variance(w):\n",
    "        return (w.T @ Sigma @ w).item()"
   ]
  },
  {
   "cell_type": "markdown",
   "metadata": {},
   "source": [
    "## A.5 Equality Constraints of Optimization Problem"
   ]
  },
  {
   "cell_type": "markdown",
   "metadata": {},
   "source": [
    "Now, we set-up functions for the equality constraints of the optimization problem. \n",
    "\n",
    "We re-write equality constraints of the problem as\n",
    "\n",
    "$$\n",
    "f(x) = 0\n",
    "$$  \n",
    "\n"
   ]
  },
  {
   "cell_type": "markdown",
   "metadata": {},
   "source": [
    "### A.5.1 Full Investment Constraint\n",
    "\n",
    "We start with the full investment constraint"
   ]
  },
  {
   "cell_type": "code",
   "execution_count": 7,
   "metadata": {},
   "outputs": [],
   "source": [
    " def full_investment_constraint(w):\n",
    "        return np.sum(w) - 1"
   ]
  },
  {
   "cell_type": "markdown",
   "metadata": {},
   "source": [
    "### A.5.2 Target Return Constraint\n",
    "\n",
    "We continue with the target portfolio return constraint. \n",
    "\n",
    "Notice: the next line is a quick and dirty way of coding. It is dirty because it uses a \"global variable\", here mu_target, which as of now is not defined. Yet, Python accepts that as it only requires to know that global quantity once it executes the function for the first time"
   ]
  },
  {
   "cell_type": "code",
   "execution_count": 8,
   "metadata": {},
   "outputs": [],
   "source": [
    "def target_return_constraint(w):\n",
    "    return (w.T @ mu).item() - mu_target"
   ]
  },
  {
   "cell_type": "markdown",
   "metadata": {},
   "source": [
    "## A.6 Starting Value for Parameter Search\n",
    "\n",
    "We set the starting value for the three dimensional parameter space to \n",
    "\n",
    "$$\n",
    "w_0 = [0.4, 0, 0.6].\n",
    "$$\n",
    "\n",
    "Important: Ensure the starting values of an optimization problem fullfill the constraints."
   ]
  },
  {
   "cell_type": "code",
   "execution_count": 9,
   "metadata": {},
   "outputs": [],
   "source": [
    " w0 = [0.4, 0, 0.6]"
   ]
  },
  {
   "cell_type": "markdown",
   "metadata": {},
   "source": [
    "## A.7 Set Parameter Bounds for Individual Parameters\n",
    "\n",
    "We set the bounds, which coincide with constraints on single parameters, here\n",
    "\n",
    "$$\n",
    "0 \\leq w_j \\leq 0.9\n",
    "$$ "
   ]
  },
  {
   "cell_type": "code",
   "execution_count": 10,
   "metadata": {},
   "outputs": [],
   "source": [
    " bounds = [\n",
    "             (0, 0.9),\n",
    "             (0, 0.9),\n",
    "             (0, 0.9)\n",
    "             \n",
    " ]"
   ]
  },
  {
   "cell_type": "markdown",
   "metadata": {},
   "source": [
    "## A.8 Set Constraints on a Combination of Parameters\n",
    "\n",
    "We set constraints, which coincide with functions on several parameters. \n",
    "\n",
    "Here, that is the **full investment constraint** and the **target return constraint**. \n",
    "\n",
    "The normed structure follows https://docs.scipy.org/doc/scipy/reference/generated/scipy.optimize.minimize.html\n",
    "\n",
    "In our application, we say to work with 'equality constraints' that are parsed as 'functions'"
   ]
  },
  {
   "cell_type": "code",
   "execution_count": 16,
   "metadata": {},
   "outputs": [],
   "source": [
    "constraints = [ \n",
    "                { 'type': 'eq', 'fun': target_return_constraint }, \n",
    "                { 'type': 'eq', 'fun': full_investment_constraint }\n",
    "              ]"
   ]
  },
  {
   "cell_type": "markdown",
   "metadata": {},
   "source": [
    "## A.9 Setting Target (Expected) Returns for which we compute the MV-Frontier\n",
    "\n",
    "Now, we define a set of target returns for which we want to find the minimum variance portfolio that fullfills the constraints. \n",
    "\n",
    "We set the range of target expected returns as **(lower bound, increment, upper bound)**, for which we seek to find the minimum variance portfolio. \n",
    "\n",
    "Notice, not all target returns can be reached due to the specific constraints. For example, in our current example, an expected portfolio return of 10% is not possible since shorting is not allowed and the highest single asset expected return is 8%. We can easily see that the achievable **lower bound** is \n",
    "\n",
    "$$\n",
    "3.3\\%=0.9 * 3\\% + 0.1 * 6\\%\n",
    "$$\n",
    "\n",
    "and the achievable **upper bound** is\n",
    "\n",
    "$$\n",
    "7.8\\% = 0.9 * 8\\% +0.1 * 6\\%\n",
    "$$\n",
    "\n",
    "This allows us to set natural lower and upper bounds. As to the increments, we work with 10 basis points, i.e.\n",
    "\n",
    "$$\n",
    "incr = 0.1\\%\n",
    "$$\n",
    " "
   ]
  },
  {
   "cell_type": "code",
   "execution_count": 42,
   "metadata": {},
   "outputs": [],
   "source": [
    " mu_LB = 0.033   "
   ]
  },
  {
   "cell_type": "code",
   "execution_count": 43,
   "metadata": {},
   "outputs": [],
   "source": [
    " mu_UB = 0.078"
   ]
  },
  {
   "cell_type": "code",
   "execution_count": 44,
   "metadata": {},
   "outputs": [],
   "source": [
    "incr  = 0.001 "
   ]
  },
  {
   "cell_type": "markdown",
   "metadata": {},
   "source": [
    "## A.10 Computing the Constrained Minimum-Variance Frontier\n",
    "\n",
    "We now loop through all traget returns to find the resulting constrained minimum variance portfolio. We store the portfolio weights in a variable \n",
    "\n",
    "$$\n",
    "\\text{w_cmv},\n",
    "$$\n",
    "\n",
    "the expected returns of the portfolios in\n",
    "\n",
    "$$\n",
    "\\text{mu_cmv},\n",
    "$$\n",
    "\n",
    "and their volatility in\n",
    "\n",
    "$$\n",
    "\\text{sigma_cmv}\n",
    "$$"
   ]
  },
  {
   "cell_type": "code",
   "execution_count": 45,
   "metadata": {},
   "outputs": [],
   "source": [
    " n = int( 1 + (mu_UB - mu_LB)/incr)"
   ]
  },
  {
   "cell_type": "code",
   "execution_count": 46,
   "metadata": {},
   "outputs": [],
   "source": [
    "w_cmv = np.zeros(\n",
    "                   (n,3)         \n",
    ")"
   ]
  },
  {
   "cell_type": "code",
   "execution_count": 47,
   "metadata": {},
   "outputs": [],
   "source": [
    "mu_cmv = np.zeros(\n",
    "                    (n,1)\n",
    ")"
   ]
  },
  {
   "cell_type": "code",
   "execution_count": 48,
   "metadata": {},
   "outputs": [],
   "source": [
    "sigma_cmv = np.zeros(\n",
    "                        (n,1)\n",
    ") "
   ]
  },
  {
   "cell_type": "code",
   "execution_count": 49,
   "metadata": {},
   "outputs": [],
   "source": [
    "mu_target = mu_LB\n",
    "for i in range(0,n):\n",
    "    w_opt = scipy.optimize.minimize(portfolio_variance, w0, bounds=bounds, constraints=constraints)\n",
    "    w_cmv[i,:] = w_opt.x\n",
    "    mu_cmv[i,0] = (w_cmv[i,:] @ mu).item()\n",
    "    sigma_cmv[i,0] = (w_cmv[i,:] @ Sigma @ w_cmv[i,:].T).item()**0.5\n",
    "    \n",
    "    mu_target += incr"
   ]
  },
  {
   "cell_type": "code",
   "execution_count": 51,
   "metadata": {},
   "outputs": [
    {
     "data": {
      "text/plain": [
       "array([[9.00000000e-01, 1.00000000e-01, 1.16607163e-13],\n",
       "       [9.00000000e-01, 5.00000058e-02, 4.99999942e-02],\n",
       "       [8.59096107e-01, 1.02259731e-01, 3.86441620e-02],\n",
       "       [8.38723290e-01, 1.03191775e-01, 5.80849346e-02],\n",
       "       [8.18350478e-01, 1.04123805e-01, 7.75257169e-02],\n",
       "       [7.97977669e-01, 1.05055829e-01, 9.69665026e-02],\n",
       "       [7.77604856e-01, 1.05987858e-01, 1.16407285e-01],\n",
       "       [7.57232044e-01, 1.06919890e-01, 1.35848066e-01],\n",
       "       [7.36859234e-01, 1.07851916e-01, 1.55288850e-01],\n",
       "       [7.16486421e-01, 1.08783946e-01, 1.74729633e-01],\n",
       "       [6.96113602e-01, 1.09715994e-01, 1.94170404e-01],\n",
       "       [6.75740779e-01, 1.10648054e-01, 2.13611167e-01],\n",
       "       [6.55367982e-01, 1.11580046e-01, 2.33051972e-01],\n",
       "       [6.34995165e-01, 1.12512089e-01, 2.52492746e-01],\n",
       "       [6.14622356e-01, 1.13444109e-01, 2.71933535e-01],\n",
       "       [5.94249531e-01, 1.14376173e-01, 2.91374296e-01],\n",
       "       [5.73876706e-01, 1.15308236e-01, 3.10815058e-01],\n",
       "       [5.53503902e-01, 1.16240246e-01, 3.30255852e-01],\n",
       "       [5.33131084e-01, 1.17172291e-01, 3.49696625e-01],\n",
       "       [5.12758278e-01, 1.18104304e-01, 3.69137417e-01],\n",
       "       [4.92385474e-01, 1.19036316e-01, 3.88578210e-01],\n",
       "       [4.72012651e-01, 1.19968375e-01, 4.08018975e-01],\n",
       "       [4.51639847e-01, 1.20900384e-01, 4.27459770e-01],\n",
       "       [4.31267013e-01, 1.21832469e-01, 4.46900518e-01],\n",
       "       [4.10894223e-01, 1.22764443e-01, 4.66341334e-01],\n",
       "       [3.90521423e-01, 1.23696442e-01, 4.85782135e-01],\n",
       "       [3.70148602e-01, 1.24628494e-01, 5.05222903e-01],\n",
       "       [3.49775778e-01, 1.25560556e-01, 5.24663667e-01],\n",
       "       [3.29402976e-01, 1.26492561e-01, 5.44104463e-01],\n",
       "       [3.09030169e-01, 1.27424576e-01, 5.63545255e-01],\n",
       "       [2.88657338e-01, 1.28356656e-01, 5.82986006e-01],\n",
       "       [2.68284530e-01, 1.29288676e-01, 6.02426794e-01],\n",
       "       [2.47911711e-01, 1.30220725e-01, 6.21867564e-01],\n",
       "       [2.27538905e-01, 1.31152740e-01, 6.41308356e-01],\n",
       "       [2.07166120e-01, 1.32084697e-01, 6.60749182e-01],\n",
       "       [1.86793278e-01, 1.33016805e-01, 6.80189916e-01],\n",
       "       [1.66420444e-01, 1.33948892e-01, 6.99630664e-01],\n",
       "       [1.46047645e-01, 1.34880886e-01, 7.19071469e-01],\n",
       "       [1.25674830e-01, 1.35812927e-01, 7.38512243e-01],\n",
       "       [1.05302003e-01, 1.36744993e-01, 7.57953004e-01],\n",
       "       [8.49291998e-02, 1.37677000e-01, 7.77393800e-01],\n",
       "       [6.45564032e-02, 1.38608991e-01, 7.96834605e-01],\n",
       "       [4.41836271e-02, 1.39540930e-01, 8.16275442e-01],\n",
       "       [2.38107968e-02, 1.40473006e-01, 8.35716197e-01],\n",
       "       [3.43796066e-03, 1.41405099e-01, 8.55156940e-01],\n",
       "       [6.77626358e-21, 1.00000000e-01, 9.00000000e-01]])"
      ]
     },
     "execution_count": 51,
     "metadata": {},
     "output_type": "execute_result"
    }
   ],
   "source": [
    "w_cmv"
   ]
  },
  {
   "cell_type": "markdown",
   "metadata": {},
   "source": [
    "## A.12 Plotting the Constrained Minimum Variance Frontier"
   ]
  },
  {
   "cell_type": "code",
   "execution_count": 53,
   "metadata": {},
   "outputs": [
    {
     "data": {
      "image/png": "[encoded data removed]",
      "text/plain": [
       "<Figure size 576x360 with 1 Axes>"
      ]
     },
     "metadata": {
      "needs_background": "light"
     },
     "output_type": "display_data"
    }
   ],
   "source": [
    "plt.figure(figsize =(8,5))\n",
    "\n",
    "plt.scatter(sigma_cmv, mu_cmv, color='blue', label='constrained MV portfolios')\n",
    "\n",
    "plt.scatter(np.diag(Sigma)**0.5, mu[:,0], s=20, color='black', label='individual investment opportunities')\n",
    "\n",
    "plt.xlabel('$\\sigma$')\n",
    "plt.ylabel('$\\mu$')\n",
    "\n",
    "plt.title('Constrained Minimum-Variance Frontier for 3 Assets', fontweight='bold')\n",
    "\n",
    "plt.legend()\n",
    "\n",
    "plt.show()"
   ]
  },
  {
   "cell_type": "code",
   "execution_count": null,
   "metadata": {},
   "outputs": [],
   "source": []
  }
 ],
 "metadata": {
  "kernelspec": {
   "display_name": "Python 3",
   "language": "python",
   "name": "python3"
  },
  "language_info": {
   "codemirror_mode": {
    "name": "ipython",
    "version": 3
   },
   "file_extension": ".py",
   "mimetype": "text/x-python",
   "name": "python",
   "nbconvert_exporter": "python",
   "pygments_lexer": "ipython3",
   "version": "3.8.5"
  }
 },
 "nbformat": 4,
 "nbformat_minor": 4
}
