{
 "cells": [
  {
   "cell_type": "markdown",
   "metadata": {},
   "source": [
    "# Goal: Running a CAPM estimation"
   ]
  },
  {
   "cell_type": "markdown",
   "metadata": {},
   "source": [
    "## Hey, Python techies!!\n",
    "\n",
    "In this video, we will see how to estimate the CAPM model. The CAPM postulates a linear relationship between the expected excess return of a single stock and the market-wide equity risk premium:\n",
    "\n",
    "$$E[r_A] - r_f = \\beta_A (E[r_M] - r_f).$$\n",
    "\n",
    "Given time series observations of stock returns, the returns of a broad stock index and the riskfree rate, we can estimate the $\\beta_A$ parameter via the following linear regression:\n",
    "\n",
    "$$r_{t,A} - r_{t,f} = \\alpha_A + \\beta_A (r_{t,M} - r_{t,f}) + \\epsilon_{t,A}.$$\n",
    "\n",
    "The $t$ index now indicates the point of time of a certain return observation and $\\alpha_A$ is added to capture any potential biases from the postulated linear relationship.\n",
    "\n",
    "In the following, we will estimate the CAPM for the stock of Microsoft.\n",
    "\n",
    "## So, let's jump into the code\n",
    "\n",
    "We start by importing the usual packages. In addition, we import the 'statsmodels' package in code line 3 to run the linear regression later on."
   ]
  },
  {
   "cell_type": "code",
   "execution_count": 1,
   "metadata": {},
   "outputs": [],
   "source": [
    "import pandas as pd\n",
    "import numpy as np\n",
    "import statsmodels.api as sm\n",
    "import matplotlib.pyplot as plt"
   ]
  },
  {
   "cell_type": "markdown",
   "metadata": {},
   "source": [
    "We read in the data from a csv file in code line 5 and calculate simple returns as $r_t = \\frac{S_t - S_{t-1}}{S_{t-1}}$ in code lines 6 and 7."
   ]
  },
  {
   "cell_type": "code",
   "execution_count": 2,
   "metadata": {},
   "outputs": [],
   "source": [
    "data = pd.read_csv('data.csv', parse_dates = ['Date'])\n",
    "\n",
    "data['MSFT_Ret'] = (data['Close_msft'] - data['Close_msft'].shift(1)) / data['Close_msft'].shift(1)\n",
    "data['SP500_Ret'] = (data['Close_sp500'] - data['Close_sp500'].shift(1)) / data['Close_sp500'].shift(1)"
   ]
  },
  {
   "cell_type": "markdown",
   "metadata": {},
   "source": [
    "We use T-Bill rates as a proxy for the riskfree rate. They are given in yearly percentage terms, so we need to scale them appropriately. We translate them from precentage figures to actual numbers by dividing the given rates by 100 and scale them to the daily horizon by dividing further by the number of trading days in a year."
   ]
  },
  {
   "cell_type": "code",
   "execution_count": 3,
   "metadata": {},
   "outputs": [
    {
     "data": {
      "text/html": [
       "<div>\n",
       "<style scoped>\n",
       "    .dataframe tbody tr th:only-of-type {\n",
       "        vertical-align: middle;\n",
       "    }\n",
       "\n",
       "    .dataframe tbody tr th {\n",
       "        vertical-align: top;\n",
       "    }\n",
       "\n",
       "    .dataframe thead th {\n",
       "        text-align: right;\n",
       "    }\n",
       "</style>\n",
       "<table border=\"1\" class=\"dataframe\">\n",
       "  <thead>\n",
       "    <tr style=\"text-align: right;\">\n",
       "      <th></th>\n",
       "      <th>Date</th>\n",
       "      <th>Close_sp500</th>\n",
       "      <th>Close_tbill</th>\n",
       "      <th>Close_msft</th>\n",
       "      <th>MSFT_Ret</th>\n",
       "      <th>SP500_Ret</th>\n",
       "      <th>Tbill_daily</th>\n",
       "    </tr>\n",
       "  </thead>\n",
       "  <tbody>\n",
       "    <tr>\n",
       "      <th>0</th>\n",
       "      <td>1993-11-01</td>\n",
       "      <td>469.10</td>\n",
       "      <td>3.06</td>\n",
       "      <td>2.52</td>\n",
       "      <td>NaN</td>\n",
       "      <td>NaN</td>\n",
       "      <td>0.000121</td>\n",
       "    </tr>\n",
       "    <tr>\n",
       "      <th>1</th>\n",
       "      <td>1993-11-02</td>\n",
       "      <td>468.44</td>\n",
       "      <td>3.12</td>\n",
       "      <td>2.50</td>\n",
       "      <td>-0.007937</td>\n",
       "      <td>-0.001407</td>\n",
       "      <td>0.000124</td>\n",
       "    </tr>\n",
       "    <tr>\n",
       "      <th>2</th>\n",
       "      <td>1993-11-03</td>\n",
       "      <td>463.02</td>\n",
       "      <td>3.08</td>\n",
       "      <td>2.45</td>\n",
       "      <td>-0.020000</td>\n",
       "      <td>-0.011570</td>\n",
       "      <td>0.000122</td>\n",
       "    </tr>\n",
       "    <tr>\n",
       "      <th>3</th>\n",
       "      <td>1993-11-04</td>\n",
       "      <td>457.49</td>\n",
       "      <td>3.07</td>\n",
       "      <td>2.38</td>\n",
       "      <td>-0.028571</td>\n",
       "      <td>-0.011943</td>\n",
       "      <td>0.000122</td>\n",
       "    </tr>\n",
       "    <tr>\n",
       "      <th>4</th>\n",
       "      <td>1993-11-05</td>\n",
       "      <td>459.57</td>\n",
       "      <td>3.07</td>\n",
       "      <td>2.45</td>\n",
       "      <td>0.029412</td>\n",
       "      <td>0.004547</td>\n",
       "      <td>0.000122</td>\n",
       "    </tr>\n",
       "  </tbody>\n",
       "</table>\n",
       "</div>"
      ],
      "text/plain": [
       "        Date  Close_sp500  Close_tbill  Close_msft  MSFT_Ret  SP500_Ret  \\\n",
       "0 1993-11-01       469.10         3.06        2.52       NaN        NaN   \n",
       "1 1993-11-02       468.44         3.12        2.50 -0.007937  -0.001407   \n",
       "2 1993-11-03       463.02         3.08        2.45 -0.020000  -0.011570   \n",
       "3 1993-11-04       457.49         3.07        2.38 -0.028571  -0.011943   \n",
       "4 1993-11-05       459.57         3.07        2.45  0.029412   0.004547   \n",
       "\n",
       "   Tbill_daily  \n",
       "0     0.000121  \n",
       "1     0.000124  \n",
       "2     0.000122  \n",
       "3     0.000122  \n",
       "4     0.000122  "
      ]
     },
     "execution_count": 3,
     "metadata": {},
     "output_type": "execute_result"
    }
   ],
   "source": [
    "data['Tbill_daily'] = data['Close_tbill'] / (100 * 252)\n",
    "data.head()"
   ]
  },
  {
   "cell_type": "markdown",
   "metadata": {},
   "source": [
    "After the return calculation, the very first returns are NaN. This is because we do not know the price before the first price in our data sample. We drop all rows with NaN values in code line 10. This way, the NaNs will not cause problems in the further calculations."
   ]
  },
  {
   "cell_type": "code",
   "execution_count": 4,
   "metadata": {},
   "outputs": [
    {
     "data": {
      "text/html": [
       "<div>\n",
       "<style scoped>\n",
       "    .dataframe tbody tr th:only-of-type {\n",
       "        vertical-align: middle;\n",
       "    }\n",
       "\n",
       "    .dataframe tbody tr th {\n",
       "        vertical-align: top;\n",
       "    }\n",
       "\n",
       "    .dataframe thead th {\n",
       "        text-align: right;\n",
       "    }\n",
       "</style>\n",
       "<table border=\"1\" class=\"dataframe\">\n",
       "  <thead>\n",
       "    <tr style=\"text-align: right;\">\n",
       "      <th></th>\n",
       "      <th>Date</th>\n",
       "      <th>Close_sp500</th>\n",
       "      <th>Close_tbill</th>\n",
       "      <th>Close_msft</th>\n",
       "      <th>MSFT_Ret</th>\n",
       "      <th>SP500_Ret</th>\n",
       "      <th>Tbill_daily</th>\n",
       "    </tr>\n",
       "  </thead>\n",
       "  <tbody>\n",
       "    <tr>\n",
       "      <th>1</th>\n",
       "      <td>1993-11-02</td>\n",
       "      <td>468.44</td>\n",
       "      <td>3.12</td>\n",
       "      <td>2.50</td>\n",
       "      <td>-0.007937</td>\n",
       "      <td>-0.001407</td>\n",
       "      <td>0.000124</td>\n",
       "    </tr>\n",
       "    <tr>\n",
       "      <th>2</th>\n",
       "      <td>1993-11-03</td>\n",
       "      <td>463.02</td>\n",
       "      <td>3.08</td>\n",
       "      <td>2.45</td>\n",
       "      <td>-0.020000</td>\n",
       "      <td>-0.011570</td>\n",
       "      <td>0.000122</td>\n",
       "    </tr>\n",
       "    <tr>\n",
       "      <th>3</th>\n",
       "      <td>1993-11-04</td>\n",
       "      <td>457.49</td>\n",
       "      <td>3.07</td>\n",
       "      <td>2.38</td>\n",
       "      <td>-0.028571</td>\n",
       "      <td>-0.011943</td>\n",
       "      <td>0.000122</td>\n",
       "    </tr>\n",
       "    <tr>\n",
       "      <th>4</th>\n",
       "      <td>1993-11-05</td>\n",
       "      <td>459.57</td>\n",
       "      <td>3.07</td>\n",
       "      <td>2.45</td>\n",
       "      <td>0.029412</td>\n",
       "      <td>0.004547</td>\n",
       "      <td>0.000122</td>\n",
       "    </tr>\n",
       "    <tr>\n",
       "      <th>5</th>\n",
       "      <td>1993-11-08</td>\n",
       "      <td>460.21</td>\n",
       "      <td>3.06</td>\n",
       "      <td>2.45</td>\n",
       "      <td>0.000000</td>\n",
       "      <td>0.001393</td>\n",
       "      <td>0.000121</td>\n",
       "    </tr>\n",
       "  </tbody>\n",
       "</table>\n",
       "</div>"
      ],
      "text/plain": [
       "        Date  Close_sp500  Close_tbill  Close_msft  MSFT_Ret  SP500_Ret  \\\n",
       "1 1993-11-02       468.44         3.12        2.50 -0.007937  -0.001407   \n",
       "2 1993-11-03       463.02         3.08        2.45 -0.020000  -0.011570   \n",
       "3 1993-11-04       457.49         3.07        2.38 -0.028571  -0.011943   \n",
       "4 1993-11-05       459.57         3.07        2.45  0.029412   0.004547   \n",
       "5 1993-11-08       460.21         3.06        2.45  0.000000   0.001393   \n",
       "\n",
       "   Tbill_daily  \n",
       "1     0.000124  \n",
       "2     0.000122  \n",
       "3     0.000122  \n",
       "4     0.000122  \n",
       "5     0.000121  "
      ]
     },
     "execution_count": 4,
     "metadata": {},
     "output_type": "execute_result"
    }
   ],
   "source": [
    "data = data.dropna()\n",
    "data.head()"
   ]
  },
  {
   "cell_type": "markdown",
   "metadata": {},
   "source": [
    "Next, we calculate excess returns for Microsoft and the S&P 500 in code lines 12 and 13."
   ]
  },
  {
   "cell_type": "code",
   "execution_count": 6,
   "metadata": {},
   "outputs": [],
   "source": [
    "data['MSFT_Ex_Ret'] = data['MSFT_Ret'] - data['Tbill_daily']\n",
    "data['SP500_Ex_Ret'] = data['SP500_Ret'] - data['Tbill_daily']"
   ]
  },
  {
   "cell_type": "markdown",
   "metadata": {},
   "source": [
    "We now estimate the linear CAPM relationship using OLS. Printing the result summary gives us the estimate for Microsoft's beta coefficient, which is 1.248. "
   ]
  },
  {
   "cell_type": "code",
   "execution_count": 7,
   "metadata": {},
   "outputs": [
    {
     "name": "stdout",
     "output_type": "stream",
     "text": [
      "                            OLS Regression Results                            \n",
      "==============================================================================\n",
      "Dep. Variable:                      y   R-squared:                       0.345\n",
      "Model:                            OLS   Adj. R-squared:                  0.344\n",
      "Method:                 Least Squares   F-statistic:                     1241.\n",
      "Date:                Fri, 08 Nov 2019   Prob (F-statistic):          7.87e-219\n",
      "Time:                        15:21:48   Log-Likelihood:                 5902.4\n",
      "No. Observations:                2362   AIC:                        -1.180e+04\n",
      "Df Residuals:                    2360   BIC:                        -1.179e+04\n",
      "Df Model:                           1                                         \n",
      "Covariance Type:            nonrobust                                         \n",
      "==============================================================================\n",
      "                 coef    std err          t      P>|t|      [0.025      0.975]\n",
      "------------------------------------------------------------------------------\n",
      "const          0.0009      0.000      2.234      0.026       0.000       0.002\n",
      "x1             1.2480      0.035     35.229      0.000       1.179       1.317\n",
      "==============================================================================\n",
      "Omnibus:                      290.276   Durbin-Watson:                   2.018\n",
      "Prob(Omnibus):                  0.000   Jarque-Bera (JB):             3074.488\n",
      "Skew:                          -0.033   Prob(JB):                         0.00\n",
      "Kurtosis:                       8.589   Cond. No.                         86.6\n",
      "==============================================================================\n",
      "\n",
      "Warnings:\n",
      "[1] Standard Errors assume that the covariance matrix of the errors is correctly specified.\n"
     ]
    }
   ],
   "source": [
    "Y = data['MSFT_Ex_Ret'].values\n",
    "X = data['SP500_Ex_Ret'].values\n",
    "X = sm.add_constant(X)\n",
    "model = sm.OLS(Y, X)\n",
    "model_fit = model.fit()\n",
    "print(model_fit.summary())"
   ]
  },
  {
   "cell_type": "markdown",
   "metadata": {},
   "source": [
    "The parameter estimates of the OLS estimation can also be accessed via the 'params' attribute of the OLS result object."
   ]
  },
  {
   "cell_type": "code",
   "execution_count": 14,
   "metadata": {},
   "outputs": [
    {
     "data": {
      "text/plain": [
       "array([9.14284709e-04, 1.24797878e+00])"
      ]
     },
     "execution_count": 14,
     "metadata": {},
     "output_type": "execute_result"
    }
   ],
   "source": [
    "model_fit.params"
   ]
  },
  {
   "cell_type": "markdown",
   "metadata": {},
   "source": [
    "We end this demonstration with a graphical representation of the CAPM. The following code plots all return observations in a scatter plot and adds the estimated linear CAPM relationship. "
   ]
  },
  {
   "cell_type": "code",
   "execution_count": 20,
   "metadata": {},
   "outputs": [
    {
     "data": {
      "image/png": "[encoded data removed]",
      "text/plain": [
       "<Figure size 432x288 with 1 Axes>"
      ]
     },
     "metadata": {},
     "output_type": "display_data"
    }
   ],
   "source": [
    "plt.figure(6)\n",
    "plt.scatter(data['SP500_Ex_Ret'], data['MSFT_Ex_Ret'], s = 1)\n",
    "x = np.linspace(data['SP500_Ex_Ret'].min(), data['SP500_Ex_Ret'].max())\n",
    "plt.plot(x, model_fit.params[0] + model_fit.params[1] * x, 'r', lw=2)\n",
    "plt.grid(True)\n",
    "plt.axis('tight')\n",
    "plt.xlabel('S&P500 Excess Returns')\n",
    "plt.ylabel('MSFT Excess Returns')\n",
    "plt.show()"
   ]
  },
  {
   "cell_type": "code",
   "execution_count": null,
   "metadata": {},
   "outputs": [],
   "source": []
  }
 ],
 "metadata": {
  "kernelspec": {
   "display_name": "Python 3",
   "language": "python",
   "name": "python3"
  },
  "language_info": {
   "codemirror_mode": {
    "name": "ipython",
    "version": 3
   },
   "file_extension": ".py",
   "mimetype": "text/x-python",
   "name": "python",
   "nbconvert_exporter": "python",
   "pygments_lexer": "ipython3",
   "version": "3.8.5"
  }
 },
 "nbformat": 4,
 "nbformat_minor": 2
}
