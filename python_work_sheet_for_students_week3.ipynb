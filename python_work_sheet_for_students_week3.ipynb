{
 "cells": [
  {
   "cell_type": "code",
   "execution_count": 1,
   "metadata": {},
   "outputs": [],
   "source": [
    "import numpy as np\n",
    "import matplotlib.pyplot as plt"
   ]
  },
  {
   "cell_type": "markdown",
   "metadata": {},
   "source": [
    "# Task #1: Risk Premium\n",
    "\n",
    "Consider the setting of the last Python work sheet. Write a Python program that computes: (i) Expected Wealth, (ii) Certainty Equivalent, (iii) Risk Premium in Euros and (iv) Risk Premium in percentage terms. Compare these quantities for the two utility specifications of your last Python work sheet. Interpret results in an economically meaningful way. "
   ]
  },
  {
   "cell_type": "markdown",
   "metadata": {},
   "source": [
    "$$\n",
    "U(W_t) = \n",
    "\\begin{cases}\n",
    "\\frac{W^{1-\\gamma}_t - 1}{1-\\gamma}, \\; \\gamma \\geq 0, \\gamma \\neq 1 \\\\\n",
    "ln (W_t), \\; \\gamma = 1\n",
    "\\end{cases}\n",
    "$$"
   ]
  },
  {
   "cell_type": "code",
   "execution_count": 2,
   "metadata": {},
   "outputs": [],
   "source": [
    "def U(w,gamma):\n",
    "    if gamma==1:\n",
    "        return np.log(w)\n",
    "    else:\n",
    "        return (w**(1-gamma)-1)/(1-gamma)"
   ]
  },
  {
   "cell_type": "markdown",
   "metadata": {},
   "source": [
    "Expected Wealth:"
   ]
  },
  {
   "cell_type": "code",
   "execution_count": 3,
   "metadata": {},
   "outputs": [],
   "source": [
    "def expected_wealth(W, prob):\n",
    "    return np.sum(W * prob)"
   ]
  },
  {
   "cell_type": "markdown",
   "metadata": {},
   "source": [
    "Certainty Equivalent (risk-free payoff that results in same expected U than gamble):"
   ]
  },
  {
   "cell_type": "markdown",
   "metadata": {},
   "source": [
    "Solve for wealth:\n",
    "$$\n",
    "W_t(U) = \n",
    "\\begin{cases}\n",
    "((1 - \\gamma) \\cdot U + 1)^{\\frac{1}{1-\\gamma}}, \\; \\gamma \\geq 0, \\gamma \\neq 1 \\\\\n",
    "exp(U), \\; \\gamma = 1\n",
    "\\end{cases}\n",
    "$$"
   ]
  },
  {
   "cell_type": "code",
   "execution_count": 4,
   "metadata": {},
   "outputs": [],
   "source": [
    "def inverted_utility(gamma, U):\n",
    "    if gamma==1:\n",
    "        return np.exp(U)\n",
    "    else:\n",
    "        return ((1-gamma)*U+1)**(1/(1-gamma))"
   ]
  },
  {
   "cell_type": "code",
   "execution_count": 5,
   "metadata": {},
   "outputs": [],
   "source": [
    "def certainty_equivalent(gamma, prob, W):\n",
    "    expected_utility = expected_wealth(U(W, gamma), prob)\n",
    "    return inverted_utility(gamma, expected_utility)"
   ]
  },
  {
   "cell_type": "markdown",
   "metadata": {},
   "source": [
    "Risk Premium:"
   ]
  },
  {
   "cell_type": "code",
   "execution_count": 6,
   "metadata": {},
   "outputs": [],
   "source": [
    "def risk_premium_abs(gamma, prob, W):\n",
    "    return expected_wealth(W, prob) - certainty_equivalent(gamma, prob, W)"
   ]
  },
  {
   "cell_type": "code",
   "execution_count": 7,
   "metadata": {},
   "outputs": [],
   "source": [
    "def risk_premium_pct(gamma, prob, W):\n",
    "    return (expected_wealth(W, prob) - certainty_equivalent(gamma, prob, W))*100 / certainty_equivalent(gamma, prob, W)"
   ]
  },
  {
   "cell_type": "markdown",
   "metadata": {},
   "source": [
    "Solve for $\\gamma=0.2$; $\\gamma=0.4$:"
   ]
  },
  {
   "cell_type": "code",
   "execution_count": 8,
   "metadata": {},
   "outputs": [],
   "source": [
    "initial_wealth = 1000\n",
    "W = np.array([1, 999999])\n",
    "prob = np.array([0.5, 0.5])"
   ]
  },
  {
   "cell_type": "code",
   "execution_count": 9,
   "metadata": {},
   "outputs": [
    {
     "name": "stdout",
     "output_type": "stream",
     "text": [
      "gamma = 0.2\n",
      "Expected Wealth: 500000.0\n",
      "Certainty Equivalent:  420456.11676226143\n",
      "Risk Premium (absolute):  79543.88323773857\n",
      "Risk Premium (percentage):  18.918474501041707\n"
     ]
    }
   ],
   "source": [
    "gamma = 0.2\n",
    "\n",
    "print(f\"gamma = {gamma}\")\n",
    "print(f\"Expected Wealth: {expected_wealth(W, prob)}\")\n",
    "print(f\"Certainty Equivalent: \", certainty_equivalent(gamma, prob, W))\n",
    "print(f\"Risk Premium (absolute): \", risk_premium_abs(gamma, prob, W))\n",
    "print(f\"Risk Premium (percentage): \", risk_premium_pct(gamma, prob, W))"
   ]
  },
  {
   "cell_type": "code",
   "execution_count": 10,
   "metadata": {},
   "outputs": [
    {
     "name": "stdout",
     "output_type": "stream",
     "text": [
      "gamma = 0.4\n",
      "Expected Wealth: 500000.0\n",
      "Certainty Equivalent:  315111.82425604877\n",
      "Risk Premium (absolute):  184888.17574395123\n",
      "Risk Premium (percentage):  58.673829895293814\n"
     ]
    }
   ],
   "source": [
    "gamma = 0.4\n",
    "\n",
    "print(f\"gamma = {gamma}\")\n",
    "print(f\"Expected Wealth: {expected_wealth(W, prob)}\")\n",
    "print(f\"Certainty Equivalent: \", certainty_equivalent(gamma, prob, W))\n",
    "print(f\"Risk Premium (absolute): \", risk_premium_abs(gamma, prob, W))\n",
    "print(f\"Risk Premium (percentage): \", risk_premium_pct(gamma, prob, W))"
   ]
  },
  {
   "cell_type": "markdown",
   "metadata": {},
   "source": [
    "# Task #2: Mean-Variance Approximation\n",
    "\n",
    "Consider the setting of the last Python work sheet. Write a python program that computes the second-oder Taylor approximation of the expected utility function. Plot the exact utility function for a risk aversion of your choice and compare it to the mean-variance approximation."
   ]
  },
  {
   "cell_type": "markdown",
   "metadata": {},
   "source": [
    "N-th order Taylor series of $f(x)$ evaluated around a:"
   ]
  },
  {
   "cell_type": "markdown",
   "metadata": {},
   "source": [
    "$$\n",
    "P(x) = \\sum_{n=0} ^ {N} \\frac {f^{(n)}(a)}{n!} (x-a)^{n}\n",
    "$$"
   ]
  },
  {
   "cell_type": "markdown",
   "metadata": {},
   "source": [
    "Utility function:\n",
    "\n",
    "$$\n",
    "U(W_t) = \n",
    "\\begin{cases}\n",
    "\\frac{W^{1-\\gamma}_t - 1}{1-\\gamma}, \\; \\gamma \\geq 0, \\gamma \\neq 1 \\\\\n",
    "ln (W_t), \\; \\gamma = 1\n",
    "\\end{cases}\n",
    "$$\n",
    "\n",
    "$$\n",
    "U'(W_t) = \n",
    "\\begin{cases}\n",
    "W_t^{-\\gamma}, \\; \\gamma \\geq 0, \\gamma \\neq 1 \\\\\n",
    "\\frac{1}{W_t}, \\; \\gamma = 1\n",
    "\\end{cases}\n",
    "$$\n",
    "\n",
    "$$\n",
    "U''(W_t) = \n",
    "\\begin{cases}\n",
    "-\\gamma W_t^{-\\gamma-1}, \\; \\gamma \\geq 0, \\gamma \\neq 1 \\\\\n",
    "-\\frac{1}{W_t^2}, \\; \\gamma = 1\n",
    "\\end{cases}\n",
    "$$"
   ]
  },
  {
   "cell_type": "code",
   "execution_count": 11,
   "metadata": {},
   "outputs": [],
   "source": [
    "def U_prime(w,gamma):\n",
    "    if gamma==1: \n",
    "        return 1/w\n",
    "    else: \n",
    "        return w**(-gamma)\n",
    "\n",
    "    \n",
    "def U_doubleprime(w,gamma):\n",
    "    if gamma==1: \n",
    "        return -(1/w**2) \n",
    "    else: \n",
    "        return -gamma * w**(-gamma-1)"
   ]
  },
  {
   "cell_type": "markdown",
   "metadata": {},
   "source": [
    "Second-Order Taylor series expansion of $U(W_t)$ around the expected value $E[W_t]$:\n",
    "\n",
    "\\begin{align*}\n",
    "U(W_t) \\approx U(E[W_t]) + U'(E[W_t]) \\times (W_t - E[W_t]) + \\frac{1}{2} U''(E[W_t]) \\times (W_t - E[W_t])^2\n",
    "\\end{align*}"
   ]
  },
  {
   "cell_type": "code",
   "execution_count": 12,
   "metadata": {},
   "outputs": [],
   "source": [
    "def second_order_taylor(E_w,w,gamma):\n",
    "    return U(E_w,gamma) + U_prime(E_w,gamma) * (w-E_w) + 0.5 * U_doubleprime(E_w,gamma) * (w-E_w)**2"
   ]
  },
  {
   "cell_type": "markdown",
   "metadata": {},
   "source": [
    "Taking expectations on both sides, using the fact $E[W_t - E[W_t]]=0$ and the definition of $var(W_t) \\equiv E[(W_t - E[W_t])^2]$\n",
    "\n",
    "\\begin{align*}\n",
    "E[U(W_t)] \\approx U(E[W_t]) + \\frac{1}{2} U''(E[W_t]) \\times var(W_t)\n",
    "\\end{align*}"
   ]
  },
  {
   "cell_type": "code",
   "execution_count": 13,
   "metadata": {},
   "outputs": [],
   "source": [
    "def expected_utility_approx(E_w,gamma,var_w):\n",
    "    return U(E_w,gamma) + 0.5 * U_doubleprime(E_w,gamma) * var_w"
   ]
  },
  {
   "cell_type": "code",
   "execution_count": 14,
   "metadata": {},
   "outputs": [
    {
     "data": {
      "image/png": "[encoded data removed]",
      "text/plain": [
       "<Figure size 720x720 with 1 Axes>"
      ]
     },
     "metadata": {
      "needs_background": "light"
     },
     "output_type": "display_data"
    }
   ],
   "source": [
    "gamma = 0.4\n",
    "W_min = 1\n",
    "W_max = 999999\n",
    "E_W = np.mean([W_min, W_max])\n",
    "var_W = np.var([W_min, W_max])\n",
    "\n",
    "W_t = np.linspace(W_min,W_max,1000)\n",
    "\n",
    "fig, ax = plt.subplots(1, 1, figsize=(10,10))\n",
    "\n",
    "ax.plot(W_t, second_order_taylor(E_W, W_t, gamma), label = \"2nd order Taylor approx of U(W_t) around E_W\", \n",
    "        color='green')\n",
    "ax.plot(W_t, U(W_t, gamma), label = \"Exact Utility Function\", \n",
    "        color='black')\n",
    "\n",
    "ax.plot([W_min,W_max], [U(W_min, gamma), U(W_max, gamma)], \n",
    "        linestyle='--', color='black', alpha=0.5)\n",
    "ax.plot([W_min,W_max], [second_order_taylor(E_W, W_min, gamma), second_order_taylor(E_W, W_max, gamma)], \n",
    "        linestyle='--', color='green', alpha=0.5)\n",
    "\n",
    "ax.scatter(E_W, expected_utility_approx(E_W,gamma,var_W), marker='x', color='green', \n",
    "           label='Mean-Variance-Approx Utility of gamble')\n",
    "ax.scatter(E_W, 0.5*U(W_min,gamma)+0.5*U(W_max,gamma), marker='x', color='black', \n",
    "           label='Exact Utility of gamble')\n",
    "\n",
    "plt.title(f'$\\gamma = {gamma}$')\n",
    "plt.xlabel('W_t [EUR]')\n",
    "plt.ylabel('U(W_t)')\n",
    "ax.legend()\n",
    "plt.show()"
   ]
  },
  {
   "cell_type": "code",
   "execution_count": null,
   "metadata": {},
   "outputs": [],
   "source": []
  }
 ],
 "metadata": {
  "kernelspec": {
   "display_name": "Python 3",
   "language": "python",
   "name": "python3"
  },
  "language_info": {
   "codemirror_mode": {
    "name": "ipython",
    "version": 3
   },
   "file_extension": ".py",
   "mimetype": "text/x-python",
   "name": "python",
   "nbconvert_exporter": "python",
   "pygments_lexer": "ipython3",
   "version": "3.8.5"
  }
 },
 "nbformat": 4,
 "nbformat_minor": 4
}
