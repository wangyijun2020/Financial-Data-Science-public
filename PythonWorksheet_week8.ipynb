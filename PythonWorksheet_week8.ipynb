{
 "cells": [
  {
   "cell_type": "markdown",
   "metadata": {},
   "source": [
    "Dear student,\n",
    "\n",
    "I am asking you to do the following in this problem set. \n",
    "\n",
    "## Task 1: OLS in an Object-oriented Way\n",
    "\n",
    "First, take the OLS code from the class material jupyter notebook and create a nice looking object oriented version for OLS estimation. The class is called \"OLS\". The constructor reads in the $y$ and $X$ variables. Ensure to add a constant to $X$. Add a function called \"runOLS(...)\" to that class. This function does the following: (i) compute regression beta and residual, (ii) volatility of the residual, (iii) standard errors and t-stat of beta estimates, (iv) adjusted $R^2$. Add a another function called \"summaryStats()\". This function executes the function \"runOLS()\" and displays the regression output for beta, t-stat, adjR2 and plots the time-series of the residual.\n",
    "\n",
    "Hint: all of the necessary code is in the class notebook.\n",
    "\n",
    "**Important:** use that OLS class for the upcoming tasks.\n",
    "\n",
    "## Task 2: Cross-Sectional Equity Predictability\n",
    "\n",
    "Second, you are going to work with the monthly equity return file \"ES50_mthlyReturns_April2021.csv\" which I have created in the aftermath of Topic_#1_GettingStarted. This data contains monthly log returns of European BlueChips. I want you to solve the following data challenges: \n",
    "\n",
    "### 2.1 Return Decomposition, $r = \\mu + \\epsilon$\n",
    "\n",
    "Fit an AR(1) to the return on AI.PA and plot in one graph the time-series of $\\mu$ and $\\epsilon$. Interpret the graph, using the concept of $R^2$, the t-stat for the AR(1) coefficient, the variance of $y$ and the variance of $\\epsilon$ and the variance of $\\mu$. \n",
    "\n",
    "The praktomat will test (round output to four decimals and state results in monthly decimal units):\n",
    "- ols estimate of AR(1) coef\n",
    "- t-stat for AR(1) coef\n",
    "- variance of r. Hint: var(y) = sum (r-mean(r)/(len(r)-1)\n",
    "- variance of eps. Hint: var(eps) = eps.T *  eps / (len(r)-1-1)\n",
    "- variance of mu. Hint: var(mu) = sum(mu-mean(mu)/(len(mu)-1)\n",
    "\n",
    "\n",
    "\n",
    "### 2.2. Cross-Sectional adj-$R^2$\n",
    "\n",
    "Tell me which of the European BlueChip stock return in \"ES50_mthlyReturns_April2021.csv\" shows evidence of at least weak predictability. Hint: I consider something weakly predictive, if the absolute value of the t-stat of the AR(1) loading is above 2. Also, how large is the adjusted $R^2$ for that stock?\n",
    "\n",
    "The praktomat tests (round output to four decimals) and state results in monthly decimal units\n",
    "- name: \"\"\n",
    "- t-stat of AR(1) coef\n",
    "- adjR2 of AR(1) regression\n",
    "\n",
    "\n",
    "\n",
    "\n",
    "## Task 3: Market Return\n",
    "\n",
    "You know by now that firm risk consists of systematic and idiosyncratic risk. You also know that the equal-weight portfolio is pretty well diversified. Hence, treat the equal-weight portfolio of the assets in \"ES50_mthlyReturns_April2021.csv\" as the market portfolio. Again, that is the return you earn for holding systematic Euro-area Equity Risk (systematic risk only). \n",
    "\n",
    "\n",
    "Analyze whether the market is predictable at the monthly frequency. Work with in-sample data only. Report t-stat, beta, adj-$R^2$. Decompose the market return into predictable ($\\mu$) and unpredictable part($\\epsilon$) and plot both into one graph. Interpret the graph.\n",
    "\n",
    "The praktomat  tests (round output to four decimals and state results in monthly decimal units):\n",
    "- ols estimate\n",
    "- t-stat\n",
    "- adjR2\n",
    "- variance of r. Hint: var(y) = sum (r-mean(r)/(len(r)-1)\n",
    "- variance of eps. Hint: var(eps) = eps.T eps / (len(r)-1-1)\n",
    "- variance of mu. Hint: var(mu) = sum(mu-mean(mu)/(len(mu)-1)\n"
   ]
  },
  {
   "cell_type": "code",
   "execution_count": null,
   "metadata": {},
   "outputs": [],
   "source": []
  }
 ],
 "metadata": {
  "kernelspec": {
   "display_name": "Python 3",
   "language": "python",
   "name": "python3"
  },
  "language_info": {
   "codemirror_mode": {
    "name": "ipython",
    "version": 3
   },
   "file_extension": ".py",
   "mimetype": "text/x-python",
   "name": "python",
   "nbconvert_exporter": "python",
   "pygments_lexer": "ipython3",
   "version": "3.8.5"
  }
 },
 "nbformat": 4,
 "nbformat_minor": 4
}
